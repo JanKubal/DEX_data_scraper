{
 "cells": [
  {
   "attachments": {},
   "cell_type": "markdown",
   "metadata": {},
   "source": [
    "# Scraping the Dextoools trade data"
   ]
  },
  {
   "cell_type": "code",
   "execution_count": 3,
   "metadata": {},
   "outputs": [],
   "source": [
    "import requests\n",
    "from bs4 import BeautifulSoup\n",
    "\n",
    "# specify the URL of the WETH/USDT page\n",
    "url = 'https://www.dextools.io/app/en/ether/pair-explorer/0x4e68ccd3e89f51c3074ca5072bbac773960dfa36'\n",
    "headers = {\n",
    "    'User-Agent': 'Mozilla/5.0 (Windows NT 10.0; Win64; x64) AppleWebKit/537.36 (KHTML, like Gecko) Chrome/58.0.3029.110 Safari/537.36'}\n",
    "\n",
    "# send a GET request to the URL\n",
    "response = requests.get(url, headers=headers)\n",
    "\n",
    "# parse the HTML content of the page using BeautifulSoup\n",
    "soup = BeautifulSoup(response.content, 'html.parser')\n",
    "\n",
    "# find the main content of the page by looking for the first <div> tag with class 'mw-parser-output'\n",
    "div_table_frame = soup.find(\"div\", {\"class\":\"ng-tns-c167-3\"})\n",
    "# content_div = div_content_text.find('div', {'class': 'mw-parser-output'})\n",
    "\n",
    "# # get all the text content from the page by concatenating the text of all <p> tags within the content div\n",
    "# text_content = ''\n",
    "# for p in content_div.find_all('p'):\n",
    "#     text_content += p.get_text()\n",
    "\n",
    "# # print the text content\n",
    "# print(text_content)"
   ]
  },
  {
   "cell_type": "code",
   "execution_count": 2,
   "metadata": {},
   "outputs": [
    {
     "data": {
      "text/plain": [
       "[<p>You must have JavaScript enabled to run this app!</p>]"
      ]
     },
     "execution_count": 2,
     "metadata": {},
     "output_type": "execute_result"
    }
   ],
   "source": [
    "soup.find_all(\"p\")##hmm this again produce error, continue here"
   ]
  },
  {
   "cell_type": "code",
   "execution_count": 1,
   "metadata": {},
   "outputs": [
    {
     "name": "stdout",
     "output_type": "stream",
     "text": [
      "2023-03-08 16:37:23 buy $1,560.30 1 4.47293 7,000.00 4.47293 https://etherscan.io/address/0x277834ffb8f94908ee6ea5eeae28bdbf995ef4e0\n",
      "----\n",
      "2023-03-08 16:37:23 buy $1,560.14 1 0.6773 1,060.00 0.6773 https://etherscan.io/address/0x935edfa4058fb0df08ba6ce050b52190ad08e4ef\n",
      "----\n",
      "2023-03-08 16:36:23 buy $1,560.14 1 36.3569 56,871.5 36.3569 https://etherscan.io/address/0x55e2cbd1e9c5c7e8a18eacaafc7b2e050d4b2827\n",
      "----\n",
      "2023-03-08 16:36:11 buy $1,558.89 1 3.16579 4,950.00 3.16579 https://etherscan.io/address/0x043ae83ed1a789183405b5b59fe39a127eaaf28a\n",
      "----\n",
      "2023-03-08 16:34:11 buy $1,558.74 1 24.1023 37,675.1 24.1023 https://etherscan.io/address/0x06209508093e5255bfedf646f517af9d3f7e7158\n",
      "----\n",
      "2023-03-08 16:31:23 buy $1,557.96 1 48.8343 76,274.4 48.8343 https://etherscan.io/address/0x1c8f6a5f009e051cab9c3851ca2da2c936b2775a\n",
      "----\n",
      "2023-03-08 16:21:23 sell $1,556.25 1 57.015 88,525.9 57.015 https://etherscan.io/address/0xa32394b885da5379b8459ca9a01146de8a70d49d\n",
      "----\n",
      "2023-03-08 16:13:11 buy $1,558.27 1 107.238 167,419 107.238 https://etherscan.io/address/0x2528b985765da6aebde7c6d823915c1cc336b057\n",
      "----\n",
      "2023-03-08 16:12:47 buy $1,554.69 1 15.625 24,361.3 15.625 https://etherscan.io/address/0x0024872b7784c14eed8c4728be19c2316672a411\n",
      "----\n",
      "2023-03-08 16:12:35 buy $1,554.07 1 98.4598 153,323 98.4598 https://etherscan.io/address/0x5bf93dffb8232e2457a31da69bba175c59552078\n",
      "----\n",
      "2023-03-08 16:12:23 buy $1,550.81 1 43.4053 67,488.1 43.4053 https://etherscan.io/address/0x1335d0a7cba7e5742399b0c94305136e8f4bc2a8\n",
      "----\n",
      "2023-03-08 16:10:59 sell $1,549.41 1 1.70 2,626.20 1.70 https://etherscan.io/address/0xb79cd7662a50e9a3e8d5a61b276f7d9bd8a4ab29\n",
      "----\n",
      "2023-03-08 16:03:11 buy $1,549.41 1 44.3658 68,918.9 44.3658 https://etherscan.io/address/0x4603180bbb8221157880afaa84638e0fc467738d\n",
      "----\n",
      "2023-03-08 16:00:23 sell $1,548.02 1 80.4481 124,269 80.4481 https://etherscan.io/address/0x50c2586fe50b2aa877d0e26a6252949d089dfe4b\n",
      "----\n",
      "2023-03-08 15:53:11 sell $1,550.65 1 0.7848 1,213.35 0.7848 https://etherscan.io/address/0x42cafb19f1f79c6adc2604ed54ca9e0efe342214\n",
      "----\n"
     ]
    }
   ],
   "source": [
    "import requests\n",
    "from bs4 import BeautifulSoup\n",
    "import time\n",
    "\n",
    "from selenium import webdriver\n",
    "from selenium.webdriver.chrome.service import Service\n",
    "\n",
    "from selenium.webdriver.chrome.options import Options\n",
    "from webdriver_manager.chrome import ChromeDriverManager\n",
    "\n",
    "from selenium.webdriver.support.ui import WebDriverWait\n",
    "from selenium.webdriver.support import expected_conditions as EC\n",
    "from selenium.webdriver.common.by import By\n",
    "from selenium.webdriver.common.keys import Keys\n",
    "\n",
    "# specify the URL of the WETH/USDT page\n",
    "url = 'https://www.dextools.io/app/en/ether/pair-explorer/0x4e68ccd3e89f51c3074ca5072bbac773960dfa36'\n",
    "\n",
    "options = Options()\n",
    "#options.add_experimental_option(\"detach\", True)\n",
    "\n",
    "driver = webdriver.Chrome(service=Service(ChromeDriverManager().install()),\n",
    "                          options=options)\n",
    "\n",
    "driver.get(url)\n",
    "#driver.maximize_window()\n",
    "\n",
    "#wait = WebDriverWait(driver, 15).until(lambda driver: driver.find_element(\"xpath\", \"//div[@role='table']\"))#.is_displayed())\n",
    "\n",
    "# table = driver.find_elements(\"xpath\", \"//div[@role='table']\")\n",
    "# for i in table:\n",
    "#     print(i.get_attribute(\"innerHTML\"))\n",
    "# table = driver.find_element(\"xpath\", \"//datatable-body[1]\")\n",
    "# print(table.get_attribute(\"innerHTML\"))\n",
    "\n",
    "\n",
    "# I suppose this is one way, get the content into soup and work on it from there\n",
    "# content = driver.page_source\n",
    "# soup = BeautifulSoup(content, 'html.parser')\n",
    "# print(soup)\n",
    "\n",
    "# The Stack overflow way\n",
    "# get table\n",
    "tableElement = WebDriverWait(driver, 10).until(\n",
    "    EC.presence_of_element_located((By.TAG_NAME, 'ngx-datatable'))\n",
    ")\n",
    "\n",
    "# scroll into table view\n",
    "driver.execute_script(\"arguments[0].scrollIntoView();\", tableElement)\n",
    "\n",
    "#probably here I should check no bots!\n",
    "\n",
    "# scrolling through the table body to the bottom\n",
    "tableBodyelement = tableElement.find_element(By.TAG_NAME, \"datatable-body-cell\")#   .find_element_by_tag_name('datatable-body-cell')\n",
    "driver.execute_script(\"arguments[0].scrollTo(0, arguments[0].scrollHeight)\", tableBodyelement)\n",
    "\n",
    "\n",
    "rowWrapper = tableElement.find_elements(By.TAG_NAME, 'datatable-row-wrapper')\n",
    "\n",
    "#for i in rowWrapper:\n",
    "#    print(i.get_attribute(\"innerHTML\"))\n",
    "\n",
    "\n",
    "for row in rowWrapper:\n",
    "    cells = row.find_elements(By.TAG_NAME, 'datatable-body-cell')\n",
    "    date = cells[0].text\n",
    "    type = cells[1].text\n",
    "    price_usd = cells[2].text\n",
    "    price_eth = cells[3].text\n",
    "    amount_coin_1 = cells[4].text\n",
    "    total_coin_2 = cells[5].text  #the naming here should be done better, it will depend on the pairs I will be trading\n",
    "    total_chain_coin = cells[6].text\n",
    "    maker = cells[7].find_element(By.TAG_NAME, 'a').get_attribute('href')\n",
    "    print(date, type, price_usd, price_eth, amount_coin_1, total_coin_2, total_chain_coin, maker)\n",
    "    print('----')    \n",
    "\n",
    "#print(tableElement.get_attribute(\"innerHTML\"))\n",
    "#driver.quit()\n",
    "\n",
    "\n",
    "#next continue here. Tydy up the code, insert the whole tyhing into while loop, save into dataframe.\n",
    "#Also TODO: filter bot activity\n",
    "\n"
   ]
  },
  {
   "cell_type": "code",
   "execution_count": 26,
   "metadata": {},
   "outputs": [
    {
     "name": "stdout",
     "output_type": "stream",
     "text": [
      "--- page: 1 ---\n",
      "--- page: 2 ---\n",
      "--- page: 3 ---\n",
      "--- page: 4 ---\n",
      "--- page: 5 ---\n",
      "--- page: 6 ---\n"
     ]
    },
    {
     "name": "stderr",
     "output_type": "stream",
     "text": [
      "Exception ignored in: <function Service.__del__ at 0x000001F891E1FD00>\n",
      "Traceback (most recent call last):\n",
      "  File \"d:\\Dokumenty\\Vejška\\Magisterské studium\\DIPLOMKA\\Code_and_Data\\Data_scraping\\DEX_data_scraper\\venv\\lib\\site-packages\\selenium\\webdriver\\common\\service.py\", line 183, in __del__\n",
      "    self.stop()\n",
      "  File \"d:\\Dokumenty\\Vejška\\Magisterské studium\\DIPLOMKA\\Code_and_Data\\Data_scraping\\DEX_data_scraper\\venv\\lib\\site-packages\\selenium\\webdriver\\common\\service.py\", line 149, in stop\n",
      "    self.send_remote_shutdown_command()\n",
      "  File \"d:\\Dokumenty\\Vejška\\Magisterské studium\\DIPLOMKA\\Code_and_Data\\Data_scraping\\DEX_data_scraper\\venv\\lib\\site-packages\\selenium\\webdriver\\common\\service.py\", line 133, in send_remote_shutdown_command\n",
      "    if not self.is_connectable():\n",
      "  File \"d:\\Dokumenty\\Vejška\\Magisterské studium\\DIPLOMKA\\Code_and_Data\\Data_scraping\\DEX_data_scraper\\venv\\lib\\site-packages\\selenium\\webdriver\\common\\service.py\", line 122, in is_connectable\n",
      "    return utils.is_connectable(self.port)\n",
      "  File \"d:\\Dokumenty\\Vejška\\Magisterské studium\\DIPLOMKA\\Code_and_Data\\Data_scraping\\DEX_data_scraper\\venv\\lib\\site-packages\\selenium\\webdriver\\common\\utils.py\", line 102, in is_connectable\n",
      "    socket_ = socket.create_connection((host, port), 1)\n",
      "  File \"D:\\Program_files\\Python\\lib\\socket.py\", line 833, in create_connection\n",
      "    sock.connect(sa)\n",
      "KeyboardInterrupt: \n"
     ]
    },
    {
     "ename": "NoSuchWindowException",
     "evalue": "Message: no such window: target window already closed\nfrom unknown error: web view not found\n  (Session info: chrome=110.0.5481.180)\nStacktrace:\nBacktrace:\n\t(No symbol) [0x00DB37D3]\n\t(No symbol) [0x00D48B81]\n\t(No symbol) [0x00C4B36D]\n\t(No symbol) [0x00C2E5DA]\n\t(No symbol) [0x00C9F0CB]\n\t(No symbol) [0x00CB0A56]\n\t(No symbol) [0x00C9B216]\n\t(No symbol) [0x00C70D97]\n\t(No symbol) [0x00C7253D]\n\tGetHandleVerifier [0x0102ABF2+2510930]\n\tGetHandleVerifier [0x01058EC1+2700065]\n\tGetHandleVerifier [0x0105C86C+2714828]\n\tGetHandleVerifier [0x00E63480+645344]\n\t(No symbol) [0x00D50FD2]\n\t(No symbol) [0x00D56C68]\n\t(No symbol) [0x00D56D4B]\n\t(No symbol) [0x00D60D6B]\n\tBaseThreadInitThunk [0x76346BD9+25]\n\tRtlGetFullPathName_UEx [0x773C8FD2+1218]\n\tRtlGetFullPathName_UEx [0x773C8F9D+1165]\n",
     "output_type": "error",
     "traceback": [
      "\u001b[1;31m---------------------------------------------------------------------------\u001b[0m",
      "\u001b[1;31mNoSuchWindowException\u001b[0m                     Traceback (most recent call last)",
      "Cell \u001b[1;32mIn[26], line 39\u001b[0m\n\u001b[0;32m     37\u001b[0m date \u001b[39m=\u001b[39m cells[\u001b[39m0\u001b[39m]\u001b[39m.\u001b[39mtext\n\u001b[0;32m     38\u001b[0m \u001b[39mtype\u001b[39m \u001b[39m=\u001b[39m cells[\u001b[39m1\u001b[39m]\u001b[39m.\u001b[39mtext\n\u001b[1;32m---> 39\u001b[0m price_usd \u001b[39m=\u001b[39m cells[\u001b[39m2\u001b[39;49m]\u001b[39m.\u001b[39;49mtext\n\u001b[0;32m     40\u001b[0m price_eth \u001b[39m=\u001b[39m cells[\u001b[39m3\u001b[39m]\u001b[39m.\u001b[39mtext\n\u001b[0;32m     41\u001b[0m amount_coin_1 \u001b[39m=\u001b[39m cells[\u001b[39m4\u001b[39m]\u001b[39m.\u001b[39mtext\n",
      "File \u001b[1;32md:\\Dokumenty\\Vejška\\Magisterské studium\\DIPLOMKA\\Code_and_Data\\Data_scraping\\DEX_data_scraper\\venv\\lib\\site-packages\\selenium\\webdriver\\remote\\webelement.py:89\u001b[0m, in \u001b[0;36mWebElement.text\u001b[1;34m(self)\u001b[0m\n\u001b[0;32m     86\u001b[0m \u001b[39m@property\u001b[39m\n\u001b[0;32m     87\u001b[0m \u001b[39mdef\u001b[39;00m \u001b[39mtext\u001b[39m(\u001b[39mself\u001b[39m) \u001b[39m-\u001b[39m\u001b[39m>\u001b[39m \u001b[39mstr\u001b[39m:\n\u001b[0;32m     88\u001b[0m \u001b[39m    \u001b[39m\u001b[39m\"\"\"The text of the element.\"\"\"\u001b[39;00m\n\u001b[1;32m---> 89\u001b[0m     \u001b[39mreturn\u001b[39;00m \u001b[39mself\u001b[39;49m\u001b[39m.\u001b[39;49m_execute(Command\u001b[39m.\u001b[39;49mGET_ELEMENT_TEXT)[\u001b[39m\"\u001b[39m\u001b[39mvalue\u001b[39m\u001b[39m\"\u001b[39m]\n",
      "File \u001b[1;32md:\\Dokumenty\\Vejška\\Magisterské studium\\DIPLOMKA\\Code_and_Data\\Data_scraping\\DEX_data_scraper\\venv\\lib\\site-packages\\selenium\\webdriver\\remote\\webelement.py:403\u001b[0m, in \u001b[0;36mWebElement._execute\u001b[1;34m(self, command, params)\u001b[0m\n\u001b[0;32m    401\u001b[0m     params \u001b[39m=\u001b[39m {}\n\u001b[0;32m    402\u001b[0m params[\u001b[39m\"\u001b[39m\u001b[39mid\u001b[39m\u001b[39m\"\u001b[39m] \u001b[39m=\u001b[39m \u001b[39mself\u001b[39m\u001b[39m.\u001b[39m_id\n\u001b[1;32m--> 403\u001b[0m \u001b[39mreturn\u001b[39;00m \u001b[39mself\u001b[39;49m\u001b[39m.\u001b[39;49m_parent\u001b[39m.\u001b[39;49mexecute(command, params)\n",
      "File \u001b[1;32md:\\Dokumenty\\Vejška\\Magisterské studium\\DIPLOMKA\\Code_and_Data\\Data_scraping\\DEX_data_scraper\\venv\\lib\\site-packages\\selenium\\webdriver\\remote\\webdriver.py:440\u001b[0m, in \u001b[0;36mWebDriver.execute\u001b[1;34m(self, driver_command, params)\u001b[0m\n\u001b[0;32m    438\u001b[0m response \u001b[39m=\u001b[39m \u001b[39mself\u001b[39m\u001b[39m.\u001b[39mcommand_executor\u001b[39m.\u001b[39mexecute(driver_command, params)\n\u001b[0;32m    439\u001b[0m \u001b[39mif\u001b[39;00m response:\n\u001b[1;32m--> 440\u001b[0m     \u001b[39mself\u001b[39;49m\u001b[39m.\u001b[39;49merror_handler\u001b[39m.\u001b[39;49mcheck_response(response)\n\u001b[0;32m    441\u001b[0m     response[\u001b[39m\"\u001b[39m\u001b[39mvalue\u001b[39m\u001b[39m\"\u001b[39m] \u001b[39m=\u001b[39m \u001b[39mself\u001b[39m\u001b[39m.\u001b[39m_unwrap_value(response\u001b[39m.\u001b[39mget(\u001b[39m\"\u001b[39m\u001b[39mvalue\u001b[39m\u001b[39m\"\u001b[39m, \u001b[39mNone\u001b[39;00m))\n\u001b[0;32m    442\u001b[0m     \u001b[39mreturn\u001b[39;00m response\n",
      "File \u001b[1;32md:\\Dokumenty\\Vejška\\Magisterské studium\\DIPLOMKA\\Code_and_Data\\Data_scraping\\DEX_data_scraper\\venv\\lib\\site-packages\\selenium\\webdriver\\remote\\errorhandler.py:245\u001b[0m, in \u001b[0;36mErrorHandler.check_response\u001b[1;34m(self, response)\u001b[0m\n\u001b[0;32m    243\u001b[0m         alert_text \u001b[39m=\u001b[39m value[\u001b[39m\"\u001b[39m\u001b[39malert\u001b[39m\u001b[39m\"\u001b[39m]\u001b[39m.\u001b[39mget(\u001b[39m\"\u001b[39m\u001b[39mtext\u001b[39m\u001b[39m\"\u001b[39m)\n\u001b[0;32m    244\u001b[0m     \u001b[39mraise\u001b[39;00m exception_class(message, screen, stacktrace, alert_text)  \u001b[39m# type: ignore[call-arg]  # mypy is not smart enough here\u001b[39;00m\n\u001b[1;32m--> 245\u001b[0m \u001b[39mraise\u001b[39;00m exception_class(message, screen, stacktrace)\n",
      "\u001b[1;31mNoSuchWindowException\u001b[0m: Message: no such window: target window already closed\nfrom unknown error: web view not found\n  (Session info: chrome=110.0.5481.180)\nStacktrace:\nBacktrace:\n\t(No symbol) [0x00DB37D3]\n\t(No symbol) [0x00D48B81]\n\t(No symbol) [0x00C4B36D]\n\t(No symbol) [0x00C2E5DA]\n\t(No symbol) [0x00C9F0CB]\n\t(No symbol) [0x00CB0A56]\n\t(No symbol) [0x00C9B216]\n\t(No symbol) [0x00C70D97]\n\t(No symbol) [0x00C7253D]\n\tGetHandleVerifier [0x0102ABF2+2510930]\n\tGetHandleVerifier [0x01058EC1+2700065]\n\tGetHandleVerifier [0x0105C86C+2714828]\n\tGetHandleVerifier [0x00E63480+645344]\n\t(No symbol) [0x00D50FD2]\n\t(No symbol) [0x00D56C68]\n\t(No symbol) [0x00D56D4B]\n\t(No symbol) [0x00D60D6B]\n\tBaseThreadInitThunk [0x76346BD9+25]\n\tRtlGetFullPathName_UEx [0x773C8FD2+1218]\n\tRtlGetFullPathName_UEx [0x773C8F9D+1165]\n"
     ]
    }
   ],
   "source": [
    "#now the way with while loop for more pages\n",
    "# specify the URL of the WETH/USDT page\n",
    "url = 'https://www.dextools.io/app/en/ether/pair-explorer/0x4e68ccd3e89f51c3074ca5072bbac773960dfa36'\n",
    "\n",
    "options = Options()\n",
    "#options.add_experimental_option(\"detach\", True)\n",
    "\n",
    "driver = webdriver.Chrome(service=Service(ChromeDriverManager().install()),\n",
    "                          options=options)\n",
    "\n",
    "driver.get(url)\n",
    "\n",
    "page = 0\n",
    "\n",
    "all_results = []  # list for all rows\n",
    "\n",
    "while True:\n",
    "\n",
    "    page += 1\n",
    "    print('--- page:', page, '---')\n",
    "    \n",
    "    # get table\n",
    "    tableElement = WebDriverWait(driver, 10).until(\n",
    "        EC.presence_of_element_located((By.TAG_NAME, 'ngx-datatable'))\n",
    "    )\n",
    "    # scroll into table view\n",
    "    driver.execute_script(\"arguments[0].scrollIntoView();\", tableElement)\n",
    "\n",
    "    # scrolling through the table body to the bottom\n",
    "    tableBodyelement = tableElement.find_element(By.TAG_NAME, \"datatable-body-cell\")\n",
    "    driver.execute_script(\"arguments[0].scrollTo(0, arguments[0].scrollHeight)\", tableBodyelement)\n",
    "\n",
    "    rowWrapper = tableElement.find_elements(By.TAG_NAME, 'datatable-row-wrapper')\n",
    "\n",
    "    for row in rowWrapper:\n",
    "        cells = row.find_elements(By.TAG_NAME, 'datatable-body-cell')\n",
    "        date = cells[0].text\n",
    "        type = cells[1].text\n",
    "        price_usd = cells[2].text\n",
    "        price_eth = cells[3].text\n",
    "        amount_coin_1 = cells[4].text\n",
    "        total_coin_2 = cells[5].text  #the naming here should be done better, it will depend on the pairs I will be trading\n",
    "        total_chain_coin = cells[6].text\n",
    "        maker = cells[7].find_element(By.TAG_NAME, 'a').get_attribute('href')\n",
    "        #print(date, type, price_usd, price_eth, amount_coin_1, total_coin_2, total_chain_coin, maker)\n",
    "        #print('----')  \n",
    "        \n",
    "        # add row to list\n",
    "        all_results.append( [date, type, price_usd, price_eth, amount_coin_1, total_coin_2, total_chain_coin, maker] )\n",
    "                                \n",
    "\n",
    "    try:\n",
    "        next_page = driver.find_element(By.XPATH, '//a[@aria-label=\"go to next page\"]')\n",
    "        #next_page.click()\n",
    "        driver.execute_script(\"arguments[0].click();\", next_page) #this should solve the issue of not finding the element?\n",
    "        time.sleep(0.5)\n",
    "    except Exception as ex:\n",
    "       print(\"last page???\")\n",
    "       break\n",
    "    \n",
    "# after loop convert to DataFrame and write it to excel\n",
    "\n",
    "\n",
    "#print(all_results)\n",
    "#import pandas as pd\n",
    "\n",
    "#df = pd.DataFrame(all_results, columns=['date', 'type', 'price_usd', 'price_eth', 'amount_cuminu', 'total_eth', 'maker'])\n",
    "#df.to_excel('results.xlsx')\n",
    "\n",
    "# ---\n",
    "\n",
    "\n",
    "#note, TODO next: it scrapes well, just at the end there is a problem that it cycles and runs the same set of table rows in a loop. \n",
    "# Resolve next time, look how the button changes at the end, if not available - perhaps if block?\n"
   ]
  },
  {
   "cell_type": "code",
   "execution_count": 4,
   "metadata": {},
   "outputs": [
    {
     "name": "stdout",
     "output_type": "stream",
     "text": [
      "15\n"
     ]
    }
   ],
   "source": [
    "print(len(all_results))"
   ]
  },
  {
   "cell_type": "code",
   "execution_count": 24,
   "metadata": {},
   "outputs": [
    {
     "name": "stdout",
     "output_type": "stream",
     "text": [
      "<i class=\"datatable-icon-right\"></i>\n"
     ]
    }
   ],
   "source": [
    "#Just try to find an element and click it\n",
    "# specify the URL of the WETH/USDT page\n",
    "url = 'https://www.dextools.io/app/en/ether/pair-explorer/0x4e68ccd3e89f51c3074ca5072bbac773960dfa36'\n",
    "\n",
    "options = Options()\n",
    "#options.add_experimental_option(\"detach\", True)\n",
    "\n",
    "driver = webdriver.Chrome(service=Service(ChromeDriverManager().install()),\n",
    "                          options=options)\n",
    "\n",
    "driver.get(url)\n",
    "time.sleep(5)\n",
    "next_page = driver.find_element(By.XPATH, '//a[@aria-label=\"go to next page\"]')\n",
    "\n",
    "\n",
    "\n",
    "print(next_page.get_attribute(\"innerHTML\"))\n",
    "#next_page.click()\n",
    "driver.execute_script(\"arguments[0].click();\", next_page)\n",
    "#print(test_elemnt.get_attribute(\"innerHTML\"))\n",
    "\n"
   ]
  },
  {
   "cell_type": "code",
   "execution_count": 8,
   "metadata": {},
   "outputs": [],
   "source": [
    "##Try to acces dexscreener.com data\n",
    "url = 'https://dexscreener.com/arbitrum/0xc31e54c7a869b9fcbecc14363cf510d1c41fa443'\n",
    "\n",
    "options = Options()\n",
    "#options.add_experimental_option(\"detach\", True)\n",
    "\n",
    "driver = webdriver.Chrome(service=Service(ChromeDriverManager().install()),\n",
    "                          options=options)\n",
    "\n",
    "driver.get(url)\n",
    "#time.sleep(5)"
   ]
  }
 ],
 "metadata": {
  "kernelspec": {
   "display_name": "venv",
   "language": "python",
   "name": "python3"
  },
  "language_info": {
   "codemirror_mode": {
    "name": "ipython",
    "version": 3
   },
   "file_extension": ".py",
   "mimetype": "text/x-python",
   "name": "python",
   "nbconvert_exporter": "python",
   "pygments_lexer": "ipython3",
   "version": "3.10.0"
  },
  "orig_nbformat": 4
 },
 "nbformat": 4,
 "nbformat_minor": 2
}
